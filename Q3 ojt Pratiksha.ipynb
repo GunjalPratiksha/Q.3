{
 "cells": [
  {
   "cell_type": "code",
   "execution_count": 1,
   "id": "4a25a494",
   "metadata": {},
   "outputs": [],
   "source": [
    "import numpy as np\n",
    "import pandas as pd \n",
    "import matplotlib.pyplot as plt\n",
    "import seaborn as sns"
   ]
  },
  {
   "cell_type": "markdown",
   "id": "68b329bd",
   "metadata": {},
   "source": [
    "# Q3. Singular Value Decomposition (SVD):\n",
    "Perform Singular Value Decomposition on the matrix A obtained in Question 2. Separate and print matrices U, Σ, and 𝑉 ் . Verify that A equals the product of U, Σ, and 𝑉 ் . Additionally, find the rank 2 and rank 3 approximations of matrix A."
   ]
  },
  {
   "cell_type": "code",
   "execution_count": 2,
   "id": "309beed7",
   "metadata": {},
   "outputs": [
    {
     "name": "stdout",
     "output_type": "stream",
     "text": [
      "Original matrix A:\n",
      "[[5 4 4 9 1]\n",
      " [0 2 4 9 3]\n",
      " [0 2 8 0 6]\n",
      " [1 1 3 8 2]\n",
      " [9 2 9 0 1]]\n"
     ]
    }
   ],
   "source": [
    "A = np.random.randint(0, 10, size=(5, 5))\n",
    "print(\"Original matrix A:\")\n",
    "print(A)"
   ]
  },
  {
   "cell_type": "code",
   "execution_count": 3,
   "id": "7b85b404",
   "metadata": {},
   "outputs": [
    {
     "name": "stdout",
     "output_type": "stream",
     "text": [
      "Matrix U:\n",
      "[[-0.54604812 -0.24657134  0.39198127  0.67877134 -0.16326106]\n",
      " [-0.45502894 -0.41559065 -0.23549958 -0.20727933  0.722363  ]\n",
      " [-0.34484081  0.36829032 -0.79772651  0.27198468 -0.18736008]\n",
      " [-0.38749193 -0.36019218 -0.04473969 -0.56799292 -0.62888313]\n",
      " [-0.47509465  0.70789182  0.39053989 -0.31577384  0.14470563]]\n",
      "\n",
      "Matrix Sigma:\n",
      "[[20.09397856  0.          0.          0.          0.        ]\n",
      " [ 0.         11.52022243  0.          0.          0.        ]\n",
      " [ 0.          0.          7.7022812   0.          0.        ]\n",
      " [ 0.          0.          0.          1.75698766  0.        ]\n",
      " [ 0.          0.          0.          0.          0.32304694]]\n",
      "\n",
      "Matrix V:\n",
      "[[-0.36795025  0.41474698  0.70498927 -0.00916387 -0.442158  ]\n",
      " [-0.25488298 -0.00219567  0.03087565  0.93623621  0.23987142]\n",
      " [-0.60721486  0.48507088 -0.30838207 -0.2755272   0.47432227]\n",
      " [-0.60264964 -0.76743269  0.13637748 -0.17104003  0.00263875]\n",
      " [-0.26028983  0.06110178 -0.62316811  0.13493648 -0.72247451]]\n"
     ]
    }
   ],
   "source": [
    "#Q 3\n",
    " # Perform Singular Value Decomposition (SVD)\n",
    "U, Sigma, V_transpose = np.linalg.svd(A)\n",
    "Sigma_mat = np.zeros_like(A, dtype=float)\n",
    "Sigma_mat[:min(A.shape[0], A.shape[1]), :min(A.shape[0], A.shape[1])] = np.diag(Sigma)\n",
    "print(\"Matrix U:\")\n",
    "print(U)\n",
    "print(\"\\nMatrix Sigma:\")\n",
    "print(Sigma_mat)\n",
    "print(\"\\nMatrix V:\")\n",
    "print(V_transpose.T)"
   ]
  },
  {
   "cell_type": "code",
   "execution_count": 4,
   "id": "d3e8b073",
   "metadata": {},
   "outputs": [
    {
     "name": "stdout",
     "output_type": "stream",
     "text": [
      "\n",
      "Verification that A equals the product of U, Sigma, and V:\n",
      "True\n"
     ]
    }
   ],
   "source": [
    "# Now we show that A equals the product of U, Sigma, and V\n",
    "A_reconstructed = np.dot(U, np.dot(Sigma_mat, V_transpose))\n",
    "print(\"\\nVerification that A equals the product of U, Sigma, and V:\")\n",
    "print(np.allclose(A, A_reconstructed))"
   ]
  },
  {
   "cell_type": "code",
   "execution_count": null,
   "id": "569094d0",
   "metadata": {},
   "outputs": [],
   "source": []
  }
 ],
 "metadata": {
  "kernelspec": {
   "display_name": "Python 3 (ipykernel)",
   "language": "python",
   "name": "python3"
  },
  "language_info": {
   "codemirror_mode": {
    "name": "ipython",
    "version": 3
   },
   "file_extension": ".py",
   "mimetype": "text/x-python",
   "name": "python",
   "nbconvert_exporter": "python",
   "pygments_lexer": "ipython3",
   "version": "3.11.5"
  }
 },
 "nbformat": 4,
 "nbformat_minor": 5
}
